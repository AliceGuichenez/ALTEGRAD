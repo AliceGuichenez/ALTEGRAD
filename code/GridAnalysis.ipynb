{
 "cells": [
  {
   "cell_type": "code",
   "execution_count": 1,
   "metadata": {},
   "outputs": [],
   "source": [
    "import GraphData as data"
   ]
  },
  {
   "cell_type": "code",
   "execution_count": 2,
   "metadata": {},
   "outputs": [
    {
     "data": {
      "text/plain": [
       "(114, 29)"
      ]
     },
     "execution_count": 2,
     "metadata": {},
     "output_type": "execute_result"
    }
   ],
   "source": [
    "df = data.get_perfs()\n",
    "df.shape"
   ]
  },
  {
   "cell_type": "code",
   "execution_count": 3,
   "metadata": {},
   "outputs": [],
   "source": [
    "df = df.loc[df.N_train >= 40000]"
   ]
  },
  {
   "cell_type": "code",
   "execution_count": 124,
   "metadata": {},
   "outputs": [
    {
     "data": {
      "text/plain": [
       "Index(['N_train', 'T', 'activation', 'batch_size', 'best_epoch', 'biased',\n",
       "       'date', 'docs_id', 'drop_rate', 'learning_rate', 'max_doc_size',\n",
       "       'min_loss', 'min_val_mae', 'min_val_mse', 'momentum', 'my_patience',\n",
       "       'n_units', 'nb_epochs', 'nesterov', 'num_walks', 'optimizer', 'p', 'q',\n",
       "       'split_id', 'target', 'train_id', 'walk_length'],\n",
       "      dtype='object')"
      ]
     },
     "execution_count": 124,
     "metadata": {},
     "output_type": "execute_result"
    }
   ],
   "source": [
    "df.columns"
   ]
  },
  {
   "cell_type": "code",
   "execution_count": 4,
   "metadata": {},
   "outputs": [
    {
     "data": {
      "text/html": [
       "<div>\n",
       "<style scoped>\n",
       "    .dataframe tbody tr th:only-of-type {\n",
       "        vertical-align: middle;\n",
       "    }\n",
       "\n",
       "    .dataframe tbody tr th {\n",
       "        vertical-align: top;\n",
       "    }\n",
       "\n",
       "    .dataframe thead th {\n",
       "        text-align: right;\n",
       "    }\n",
       "</style>\n",
       "<table border=\"1\" class=\"dataframe\">\n",
       "  <thead>\n",
       "    <tr style=\"text-align: right;\">\n",
       "      <th></th>\n",
       "      <th>target</th>\n",
       "      <th>p</th>\n",
       "      <th>q</th>\n",
       "      <th>biased</th>\n",
       "      <th>min_val_mse</th>\n",
       "      <th>date</th>\n",
       "      <th>N_train</th>\n",
       "      <th>T</th>\n",
       "    </tr>\n",
       "  </thead>\n",
       "  <tbody>\n",
       "    <tr>\n",
       "      <th>70</th>\n",
       "      <td>0</td>\n",
       "      <td>0.573311</td>\n",
       "      <td>0.706387</td>\n",
       "      <td>True</td>\n",
       "      <td>0.306284</td>\n",
       "      <td>2019-03-25 01:00</td>\n",
       "      <td>60000.0</td>\n",
       "      <td>242.101610</td>\n",
       "    </tr>\n",
       "    <tr>\n",
       "      <th>67</th>\n",
       "      <td>1</td>\n",
       "      <td>0.599773</td>\n",
       "      <td>0.707426</td>\n",
       "      <td>True</td>\n",
       "      <td>0.181369</td>\n",
       "      <td>2019-03-25 00:43</td>\n",
       "      <td>60000.0</td>\n",
       "      <td>169.524658</td>\n",
       "    </tr>\n",
       "    <tr>\n",
       "      <th>36</th>\n",
       "      <td>2</td>\n",
       "      <td>0.678674</td>\n",
       "      <td>1.404992</td>\n",
       "      <td>True</td>\n",
       "      <td>0.582827</td>\n",
       "      <td>2019-03-24 22:12</td>\n",
       "      <td>60000.0</td>\n",
       "      <td>167.101468</td>\n",
       "    </tr>\n",
       "    <tr>\n",
       "      <th>109</th>\n",
       "      <td>3</td>\n",
       "      <td>0.829333</td>\n",
       "      <td>1.041117</td>\n",
       "      <td>True</td>\n",
       "      <td>0.423577</td>\n",
       "      <td>2019-03-25 04:11</td>\n",
       "      <td>60000.0</td>\n",
       "      <td>205.627333</td>\n",
       "    </tr>\n",
       "  </tbody>\n",
       "</table>\n",
       "</div>"
      ],
      "text/plain": [
       "     target         p         q  biased  min_val_mse              date  \\\n",
       "70        0  0.573311  0.706387    True     0.306284  2019-03-25 01:00   \n",
       "67        1  0.599773  0.707426    True     0.181369  2019-03-25 00:43   \n",
       "36        2  0.678674  1.404992    True     0.582827  2019-03-24 22:12   \n",
       "109       3  0.829333  1.041117    True     0.423577  2019-03-25 04:11   \n",
       "\n",
       "     N_train           T  \n",
       "70   60000.0  242.101610  \n",
       "67   60000.0  169.524658  \n",
       "36   60000.0  167.101468  \n",
       "109  60000.0  205.627333  "
      ]
     },
     "execution_count": 4,
     "metadata": {},
     "output_type": "execute_result"
    }
   ],
   "source": [
    "x = df.groupby(\"target\").min_val_mse.idxmin().values\n",
    "df.loc[x][[\"target\", \"p\", \"q\", \"biased\", \"min_val_mse\", \"date\", \"N_train\", \"T\"]]"
   ]
  },
  {
   "cell_type": "markdown",
   "metadata": {},
   "source": [
    "df.loc[x][[\"p\", \"q\", \"min_val_mse\"]].mean()"
   ]
  },
  {
   "cell_type": "code",
   "execution_count": 16,
   "metadata": {},
   "outputs": [],
   "source": [
    "import numpy as np"
   ]
  },
  {
   "cell_type": "code",
   "execution_count": 37,
   "metadata": {},
   "outputs": [],
   "source": [
    "grid_x, grid_y = np.mgrid[0.5:1.5:5j, 0.5:1.5:5j]"
   ]
  },
  {
   "cell_type": "code",
   "execution_count": 38,
   "metadata": {},
   "outputs": [
    {
     "data": {
      "text/plain": [
       "array([[0.5 , 0.5 , 0.5 , 0.5 , 0.5 ],\n",
       "       [0.75, 0.75, 0.75, 0.75, 0.75],\n",
       "       [1.  , 1.  , 1.  , 1.  , 1.  ],\n",
       "       [1.25, 1.25, 1.25, 1.25, 1.25],\n",
       "       [1.5 , 1.5 , 1.5 , 1.5 , 1.5 ]])"
      ]
     },
     "execution_count": 38,
     "metadata": {},
     "output_type": "execute_result"
    }
   ],
   "source": [
    "grid_x"
   ]
  },
  {
   "cell_type": "code",
   "execution_count": 26,
   "metadata": {},
   "outputs": [
    {
     "data": {
      "text/html": [
       "<div>\n",
       "<style scoped>\n",
       "    .dataframe tbody tr th:only-of-type {\n",
       "        vertical-align: middle;\n",
       "    }\n",
       "\n",
       "    .dataframe tbody tr th {\n",
       "        vertical-align: top;\n",
       "    }\n",
       "\n",
       "    .dataframe thead th {\n",
       "        text-align: right;\n",
       "    }\n",
       "</style>\n",
       "<table border=\"1\" class=\"dataframe\">\n",
       "  <thead>\n",
       "    <tr style=\"text-align: right;\">\n",
       "      <th></th>\n",
       "      <th>p</th>\n",
       "      <th>q</th>\n",
       "    </tr>\n",
       "  </thead>\n",
       "  <tbody>\n",
       "    <tr>\n",
       "      <th>36</th>\n",
       "      <td>0.678674</td>\n",
       "      <td>1.404992</td>\n",
       "    </tr>\n",
       "    <tr>\n",
       "      <th>40</th>\n",
       "      <td>0.694360</td>\n",
       "      <td>1.026208</td>\n",
       "    </tr>\n",
       "    <tr>\n",
       "      <th>44</th>\n",
       "      <td>0.552345</td>\n",
       "      <td>1.488211</td>\n",
       "    </tr>\n",
       "    <tr>\n",
       "      <th>48</th>\n",
       "      <td>1.294249</td>\n",
       "      <td>0.736183</td>\n",
       "    </tr>\n",
       "    <tr>\n",
       "      <th>52</th>\n",
       "      <td>0.851506</td>\n",
       "      <td>0.772891</td>\n",
       "    </tr>\n",
       "    <tr>\n",
       "      <th>56</th>\n",
       "      <td>0.783117</td>\n",
       "      <td>1.250922</td>\n",
       "    </tr>\n",
       "    <tr>\n",
       "      <th>60</th>\n",
       "      <td>1.407391</td>\n",
       "      <td>0.903370</td>\n",
       "    </tr>\n",
       "    <tr>\n",
       "      <th>64</th>\n",
       "      <td>1.064781</td>\n",
       "      <td>1.369940</td>\n",
       "    </tr>\n",
       "    <tr>\n",
       "      <th>68</th>\n",
       "      <td>0.599773</td>\n",
       "      <td>0.707426</td>\n",
       "    </tr>\n",
       "    <tr>\n",
       "      <th>72</th>\n",
       "      <td>0.573311</td>\n",
       "      <td>0.706387</td>\n",
       "    </tr>\n",
       "    <tr>\n",
       "      <th>76</th>\n",
       "      <td>0.638390</td>\n",
       "      <td>0.897281</td>\n",
       "    </tr>\n",
       "    <tr>\n",
       "      <th>80</th>\n",
       "      <td>1.329811</td>\n",
       "      <td>0.565396</td>\n",
       "    </tr>\n",
       "    <tr>\n",
       "      <th>84</th>\n",
       "      <td>1.373460</td>\n",
       "      <td>1.069532</td>\n",
       "    </tr>\n",
       "    <tr>\n",
       "      <th>88</th>\n",
       "      <td>0.640560</td>\n",
       "      <td>0.654513</td>\n",
       "    </tr>\n",
       "    <tr>\n",
       "      <th>92</th>\n",
       "      <td>0.925146</td>\n",
       "      <td>1.229164</td>\n",
       "    </tr>\n",
       "    <tr>\n",
       "      <th>96</th>\n",
       "      <td>1.040533</td>\n",
       "      <td>0.857713</td>\n",
       "    </tr>\n",
       "    <tr>\n",
       "      <th>100</th>\n",
       "      <td>1.053479</td>\n",
       "      <td>0.726896</td>\n",
       "    </tr>\n",
       "    <tr>\n",
       "      <th>104</th>\n",
       "      <td>1.187477</td>\n",
       "      <td>0.835085</td>\n",
       "    </tr>\n",
       "    <tr>\n",
       "      <th>108</th>\n",
       "      <td>0.829333</td>\n",
       "      <td>1.041117</td>\n",
       "    </tr>\n",
       "  </tbody>\n",
       "</table>\n",
       "</div>"
      ],
      "text/plain": [
       "            p         q\n",
       "36   0.678674  1.404992\n",
       "40   0.694360  1.026208\n",
       "44   0.552345  1.488211\n",
       "48   1.294249  0.736183\n",
       "52   0.851506  0.772891\n",
       "56   0.783117  1.250922\n",
       "60   1.407391  0.903370\n",
       "64   1.064781  1.369940\n",
       "68   0.599773  0.707426\n",
       "72   0.573311  0.706387\n",
       "76   0.638390  0.897281\n",
       "80   1.329811  0.565396\n",
       "84   1.373460  1.069532\n",
       "88   0.640560  0.654513\n",
       "92   0.925146  1.229164\n",
       "96   1.040533  0.857713\n",
       "100  1.053479  0.726896\n",
       "104  1.187477  0.835085\n",
       "108  0.829333  1.041117"
      ]
     },
     "execution_count": 26,
     "metadata": {},
     "output_type": "execute_result"
    }
   ],
   "source": [
    "a[[\"p\", \"q\"]]"
   ]
  },
  {
   "cell_type": "code",
   "execution_count": 55,
   "metadata": {},
   "outputs": [
    {
     "data": {
      "text/plain": [
       "array([0.55234506, 0.55234506, 0.55234506, ..., 1.40739091, 1.40739091,\n",
       "       1.40739091])"
      ]
     },
     "execution_count": 55,
     "metadata": {},
     "output_type": "execute_result"
    }
   ],
   "source": [
    "grid_x, grid_y = np.mgrid[a.p.min():a.p.max():100j, a.q.min():a.q.max():100j]\n",
    "grid_x, grid_y = grid_x.flatten(), grid_y.flatten()\n",
    "grid_x"
   ]
  },
  {
   "cell_type": "code",
   "execution_count": 56,
   "metadata": {},
   "outputs": [
    {
     "data": {
      "text/plain": [
       "array([nan, nan, nan, ..., nan, nan, nan])"
      ]
     },
     "execution_count": 56,
     "metadata": {},
     "output_type": "execute_result"
    }
   ],
   "source": [
    "heat = griddata(a[[\"p\", \"q\"]].values, a.min_val_mse, (grid_x, grid_y), method='cubic')\n",
    "heat"
   ]
  },
  {
   "cell_type": "code",
   "execution_count": 16,
   "metadata": {},
   "outputs": [
    {
     "data": {
      "text/plain": [
       "Index(['N_train', 'T', 'activation', 'batch_size', 'best_epoch', 'biased',\n",
       "       'date', 'docs_id', 'drop_rate', 'learning_rate', 'max_doc_size',\n",
       "       'min_loss', 'min_val_mae', 'min_val_mse', 'momentum', 'my_patience',\n",
       "       'n_units', 'nb_epochs', 'nesterov', 'num_walks', 'optimizer', 'p', 'q',\n",
       "       'split_id', 'target', 'train_id', 'walk_length'],\n",
       "      dtype='object')"
      ]
     },
     "execution_count": 16,
     "metadata": {},
     "output_type": "execute_result"
    }
   ],
   "source": [
    "df.columns"
   ]
  },
  {
   "cell_type": "code",
   "execution_count": 10,
   "metadata": {},
   "outputs": [],
   "source": []
  },
  {
   "cell_type": "code",
   "execution_count": 11,
   "metadata": {},
   "outputs": [
    {
     "data": {
      "text/plain": [
       "36     0.582827\n",
       "40     0.793856\n",
       "44     0.613346\n",
       "48     0.851464\n",
       "52     0.777759\n",
       "56     1.003979\n",
       "60     1.024099\n",
       "64     1.083752\n",
       "68     0.689867\n",
       "72     0.857728\n",
       "76     1.147995\n",
       "80     0.632955\n",
       "84     0.909629\n",
       "88     0.665541\n",
       "92     0.903319\n",
       "96     0.689648\n",
       "100    1.096655\n",
       "104    0.721786\n",
       "108    0.811094\n",
       "Name: min_val_mse, dtype: float64"
      ]
     },
     "execution_count": 11,
     "metadata": {},
     "output_type": "execute_result"
    }
   ],
   "source": [
    "a.min_val_mse"
   ]
  },
  {
   "cell_type": "code",
   "execution_count": 19,
   "metadata": {},
   "outputs": [],
   "source": [
    "import matplotlib.pyplot as plt"
   ]
  },
  {
   "cell_type": "code",
   "execution_count": 20,
   "metadata": {},
   "outputs": [],
   "source": [
    "%matplotlib notebook"
   ]
  },
  {
   "cell_type": "code",
   "execution_count": 23,
   "metadata": {},
   "outputs": [
    {
     "ename": "ModuleNotFoundError",
     "evalue": "No module named 'seaborn'",
     "output_type": "error",
     "traceback": [
      "\u001b[0;31m---------------------------------------------------------------------------\u001b[0m",
      "\u001b[0;31mModuleNotFoundError\u001b[0m                       Traceback (most recent call last)",
      "\u001b[0;32m<ipython-input-23-421c47b64170>\u001b[0m in \u001b[0;36m<module>\u001b[0;34m\u001b[0m\n\u001b[0;32m----> 1\u001b[0;31m \u001b[0;32mimport\u001b[0m \u001b[0mseaborn\u001b[0m \u001b[0;32mas\u001b[0m \u001b[0msns\u001b[0m\u001b[0;34m;\u001b[0m \u001b[0msns\u001b[0m\u001b[0;34m.\u001b[0m\u001b[0mset\u001b[0m\u001b[0;34m(\u001b[0m\u001b[0;34m)\u001b[0m\u001b[0;34m\u001b[0m\u001b[0;34m\u001b[0m\u001b[0m\n\u001b[0m",
      "\u001b[0;31mModuleNotFoundError\u001b[0m: No module named 'seaborn'"
     ]
    }
   ],
   "source": [
    "import seaborn as sns; sns.set()"
   ]
  },
  {
   "cell_type": "code",
   "execution_count": null,
   "metadata": {},
   "outputs": [],
   "source": [
    "sns.hea"
   ]
  }
 ],
 "metadata": {
  "kernelspec": {
   "display_name": "Python 3",
   "language": "python",
   "name": "python3"
  },
  "language_info": {
   "codemirror_mode": {
    "name": "ipython",
    "version": 3
   },
   "file_extension": ".py",
   "mimetype": "text/x-python",
   "name": "python",
   "nbconvert_exporter": "python",
   "pygments_lexer": "ipython3",
   "version": "3.6.8"
  }
 },
 "nbformat": 4,
 "nbformat_minor": 2
}
